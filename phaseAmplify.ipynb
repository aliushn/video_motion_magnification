{
 "cells": [
  {
   "cell_type": "code",
   "execution_count": 4,
   "metadata": {
    "collapsed": false
   },
   "outputs": [
    {
     "name": "stdout",
     "output_type": "stream",
     "text": [
      "Populating the interactive namespace from numpy and matplotlib\n"
     ]
    },
    {
     "name": "stderr",
     "output_type": "stream",
     "text": [
      "C:\\Users\\Zheryu\\Anaconda3\\envs\\image-processing\\lib\\site-packages\\IPython\\core\\magics\\pylab.py:161: UserWarning: pylab import has clobbered these variables: ['ifft']\n",
      "`%matplotlib` prevents importing * from pylab and numpy\n",
      "  \"\\n`%matplotlib` prevents importing * from pylab and numpy\"\n"
     ]
    }
   ],
   "source": [
    "%pylab inline"
   ]
  },
  {
   "cell_type": "markdown",
   "metadata": {
    "collapsed": true
   },
   "source": [
    "#### Import"
   ]
  },
  {
   "cell_type": "code",
   "execution_count": 5,
   "metadata": {
    "collapsed": false
   },
   "outputs": [],
   "source": [
    "import numpy as np\n",
    "import pyfftw.interfaces.scipy_fftpack as spfft\n",
    "import scipy.signal as spsignal\n",
    "import skimage.transform as sktransform\n",
    "import matplotlib.pyplot as plt"
   ]
  },
  {
   "cell_type": "code",
   "execution_count": 6,
   "metadata": {
    "collapsed": false
   },
   "outputs": [],
   "source": [
    "from filter_tools import *\n",
    "from util import *\n",
    "from pyramid_tools import *"
   ]
  },
  {
   "cell_type": "markdown",
   "metadata": {},
   "source": [
    "### Load the resources"
   ]
  },
  {
   "cell_type": "code",
   "execution_count": null,
   "metadata": {
    "collapsed": false
   },
   "outputs": [],
   "source": [
    "video_file = \"baby.avi\"\n",
    "magnification_factor = 20\n",
    "fl = .04\n",
    "fh = .4\n",
    "fs = 1\n",
    "attenuate_other_frequencies=False\n",
    "pyr_type = \"octave\"\n",
    "sigma = 5\n",
    "temporal_filter = difference_of_iir\n",
    "scale_video = .8"
   ]
  },
  {
   "cell_type": "code",
   "execution_count": null,
   "metadata": {
    "collapsed": false
   },
   "outputs": [],
   "source": [
    "video = load_video(video_file)"
   ]
  },
  {
   "cell_type": "markdown",
   "metadata": {},
   "source": [
    "#### Resize our video"
   ]
  },
  {
   "cell_type": "code",
   "execution_count": null,
   "metadata": {
    "collapsed": false
   },
   "outputs": [],
   "source": [
    "video2 = np.zeros((len(video), 200, 200, 3))\n",
    "for i in range(len(video)):\n",
    "    video2[i] = sktransform.resize(video[i], (200,200))"
   ]
  },
  {
   "cell_type": "code",
   "execution_count": null,
   "metadata": {
    "collapsed": true
   },
   "outputs": [],
   "source": [
    "video = video2"
   ]
  },
  {
   "cell_type": "code",
   "execution_count": null,
   "metadata": {
    "collapsed": true
   },
   "outputs": [],
   "source": [
    "phase_amplify(video2, magnification_factor, fl, fh, fs, attenuate_other_frequencies=attenuate_other_frequencies, pyramid_type=pyr_type, sigma=sigma, temporal_filter=temporal_filter)"
   ]
  },
  {
   "cell_type": "code",
   "execution_count": null,
   "metadata": {
    "collapsed": false
   },
   "outputs": [],
   "source": [
    "def phase_amplify(video, magnification_factor, fl, fh, fs, attenuate_other_frequencies=False, pyramid_type=\"octave\", sigma=0, temporal_filter=fir_window_bp):\n",
    "    num_frames, h, w, num_channels = video.shape\n",
    "    pyr_height = max_scf_pyr_height((h, w))\n",
    "\n",
    "    if pyr_type is \"octave\":\n",
    "        print(\"Using vanilla octave pyramid\")\n",
    "        filters = get_filters((h, w), 2**np.array(list(range(0,-pyr_height-1,-1)), dtype=float), 4)\n",
    "    elif pyr_type is \"halfOctave\":\n",
    "        print(\"Using half octave pyramid\")\n",
    "        filters = get_filters((h, w), 2**np.array(list(range(0,-pyr_height-1,-1)), dtype=float), 8, t_width=0.75)\n",
    "    elif pyr_type is \"smoothHalfOctave\":\n",
    "        print(\"Using smooth half octave pyramid.\")\n",
    "        filters = get_filters_smooth_window((h, w), 8, filters_per_octave=2)\n",
    "    elif pyr_type is \"quarterOctave\":\n",
    "        print(\"Using quarter octave pyramid.\")\n",
    "        filters = get_filters_smooth_window((h, w), 8, filters_per_octave=4)\n",
    "    else:\n",
    "        print(\"Invalid filter type. Specify ocatave, halfOcatave, smoothHalfOctave, or quarterOctave\")\n",
    "        return None\n",
    "\n",
    "    yiq_video = np.zeros((num_frames, h, w, num_channels))\n",
    "    fft_video = np.zeros((num_frames, h, w), dtype=complex64)\n",
    "\n",
    "    for i in range(num_frames):\n",
    "        yiq_video[i] = rgb2yiq(video[i])\n",
    "        fft_video[i] = spfft.fftshift(spfft.fft2(yiq_video[i][:,:,0]))\n",
    "\n",
    "    magnified_y_channel = np.zeros((num_frames, h, w), dtype=complex64)\n",
    "    dc_frame_index = 0\n",
    "    for i in range(1,len(filters)-1):\n",
    "        print(\"processing level \"+str(i))\n",
    "\n",
    "        dc_frame = spfft.ifft2(spfft.ifftshift(filters[i]*fft_video[dc_frame_index]))    \n",
    "        dc_frame_no_mag = dc_frame / np.abs(dc_frame)    \n",
    "        dc_frame_phase = np.angle(dc_frame)\n",
    "\n",
    "        total = np.zeros(fft_video.shape, dtype=float)\n",
    "        filtered = np.zeros(fft_video.shape, dtype=complex64)\n",
    "\n",
    "        for j in range(num_frames):\n",
    "            filtered[j] = spfft.ifft2(spfft.ifftshift(filters[i]*fft_video[j]))\n",
    "            total[j] = simplify_phase(np.angle(filtered[j]) - dc_frame_phase)\n",
    "\n",
    "        print(\"bandpassing...\")\n",
    "        total = temporal_filter(total, fl/fs, fh/fs).astype(float)\n",
    "\n",
    "        for j in range(num_frames):\n",
    "            phase_of_frame = total[j]\n",
    "            if sigma != 0:\n",
    "                phase_of_frame = amplitude_weighted_blur(phase_of_frame, np.abs(filtered[j]), sigma)\n",
    "\n",
    "            phase_of_frame *= magnification_factor\n",
    "\n",
    "            if attenuate_other_frequencies:\n",
    "                temp_orig = np.abs(filtered[j])*dc_frame_no_mag\n",
    "            else:\n",
    "                temp_orig = filtered[j]\n",
    "            magnified_component = 2*filters[i]*spfft.fftshift(spfft.fft2(temp_orig*np.exp(1j*phase_of_frame)))\n",
    "\n",
    "            magnified_y_channel[j] = magnified_y_channel[j] + magnified_component\n",
    "\n",
    "    for i in range(num_frames):\n",
    "            magnified_y_channel[i] = magnified_y_channel[i] + (fft_video[i]*(filters[-1]**2))\n",
    "\n",
    "    out = np.zeros(yiq_video.shape)\n",
    "\n",
    "    for i in range(num_frames):\n",
    "        out_frame  = np.dstack((np.real(spfft.ifft2(spfft.ifftshift(magnified_y_channel[i]))), yiq_video[i,:,:,1:3]))\n",
    "        out[i] = yiq2rgb(out_frame)\n",
    "\n",
    "    return out.clip(min=0, max=1)"
   ]
  }
 ],
 "metadata": {
  "kernelspec": {
   "display_name": "Python (image-processing)",
   "language": "python",
   "name": "image-processing"
  },
  "language_info": {
   "codemirror_mode": {
    "name": "ipython",
    "version": 3
   },
   "file_extension": ".py",
   "mimetype": "text/x-python",
   "name": "python",
   "nbconvert_exporter": "python",
   "pygments_lexer": "ipython3",
   "version": "3.5.2"
  }
 },
 "nbformat": 4,
 "nbformat_minor": 0
}
